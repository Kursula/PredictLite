{
 "cells": [
  {
   "cell_type": "markdown",
   "metadata": {
    "tags": []
   },
   "source": [
    "# Weather prediction example\n",
    "\n",
    "This notebook shows a advanced way to predict time series data using a PredictLite neural network\n",
    "\n",
    "(c) Mikko Kursula 2022. MIT License. "
   ]
  },
  {
   "cell_type": "code",
   "execution_count": 1,
   "metadata": {},
   "outputs": [],
   "source": [
    "# Enable automatic reloading (if changes are done in the model code)\n",
    "%load_ext autoreload\n",
    "%autoreload 2\n",
    "\n",
    "# General\n",
    "import numpy as np\n",
    "import pandas as pd\n",
    "from datetime import datetime, timedelta\n",
    "import matplotlib.pyplot as plt\n",
    "\n",
    "# Data source\n",
    "import meteostat\n",
    "\n",
    "# PredictLite\n",
    "from predictlite.predictlite import PredictLite"
   ]
  },
  {
   "cell_type": "markdown",
   "metadata": {},
   "source": [
    "### Get weather dataset"
   ]
  },
  {
   "cell_type": "code",
   "execution_count": 2,
   "metadata": {},
   "outputs": [
    {
     "data": {
      "text/html": [
       "<div>\n",
       "<style scoped>\n",
       "    .dataframe tbody tr th:only-of-type {\n",
       "        vertical-align: middle;\n",
       "    }\n",
       "\n",
       "    .dataframe tbody tr th {\n",
       "        vertical-align: top;\n",
       "    }\n",
       "\n",
       "    .dataframe thead th {\n",
       "        text-align: right;\n",
       "    }\n",
       "</style>\n",
       "<table border=\"1\" class=\"dataframe\">\n",
       "  <thead>\n",
       "    <tr style=\"text-align: right;\">\n",
       "      <th></th>\n",
       "      <th>temp</th>\n",
       "      <th>dwpt</th>\n",
       "      <th>rhum</th>\n",
       "      <th>prcp</th>\n",
       "      <th>snow</th>\n",
       "      <th>wdir</th>\n",
       "      <th>wspd</th>\n",
       "      <th>wpgt</th>\n",
       "      <th>pres</th>\n",
       "      <th>tsun</th>\n",
       "      <th>coco</th>\n",
       "    </tr>\n",
       "    <tr>\n",
       "      <th>time</th>\n",
       "      <th></th>\n",
       "      <th></th>\n",
       "      <th></th>\n",
       "      <th></th>\n",
       "      <th></th>\n",
       "      <th></th>\n",
       "      <th></th>\n",
       "      <th></th>\n",
       "      <th></th>\n",
       "      <th></th>\n",
       "      <th></th>\n",
       "    </tr>\n",
       "  </thead>\n",
       "  <tbody>\n",
       "    <tr>\n",
       "      <th>2017-01-01 00:00:00</th>\n",
       "      <td>0.1</td>\n",
       "      <td>-3.1</td>\n",
       "      <td>79.0</td>\n",
       "      <td>NaN</td>\n",
       "      <td>NaN</td>\n",
       "      <td>230.0</td>\n",
       "      <td>13.0</td>\n",
       "      <td>NaN</td>\n",
       "      <td>996.5</td>\n",
       "      <td>NaN</td>\n",
       "      <td>NaN</td>\n",
       "    </tr>\n",
       "    <tr>\n",
       "      <th>2017-01-01 01:00:00</th>\n",
       "      <td>-0.5</td>\n",
       "      <td>-2.9</td>\n",
       "      <td>84.0</td>\n",
       "      <td>NaN</td>\n",
       "      <td>NaN</td>\n",
       "      <td>230.0</td>\n",
       "      <td>14.8</td>\n",
       "      <td>NaN</td>\n",
       "      <td>996.4</td>\n",
       "      <td>NaN</td>\n",
       "      <td>NaN</td>\n",
       "    </tr>\n",
       "    <tr>\n",
       "      <th>2017-01-01 02:00:00</th>\n",
       "      <td>0.0</td>\n",
       "      <td>-2.2</td>\n",
       "      <td>85.0</td>\n",
       "      <td>NaN</td>\n",
       "      <td>NaN</td>\n",
       "      <td>220.0</td>\n",
       "      <td>9.4</td>\n",
       "      <td>NaN</td>\n",
       "      <td>996.6</td>\n",
       "      <td>NaN</td>\n",
       "      <td>NaN</td>\n",
       "    </tr>\n",
       "    <tr>\n",
       "      <th>2017-01-01 03:00:00</th>\n",
       "      <td>-2.2</td>\n",
       "      <td>-3.6</td>\n",
       "      <td>90.0</td>\n",
       "      <td>NaN</td>\n",
       "      <td>NaN</td>\n",
       "      <td>230.0</td>\n",
       "      <td>13.0</td>\n",
       "      <td>NaN</td>\n",
       "      <td>996.6</td>\n",
       "      <td>NaN</td>\n",
       "      <td>NaN</td>\n",
       "    </tr>\n",
       "    <tr>\n",
       "      <th>2017-01-01 04:00:00</th>\n",
       "      <td>-3.2</td>\n",
       "      <td>-4.2</td>\n",
       "      <td>93.0</td>\n",
       "      <td>NaN</td>\n",
       "      <td>NaN</td>\n",
       "      <td>240.0</td>\n",
       "      <td>11.2</td>\n",
       "      <td>NaN</td>\n",
       "      <td>996.8</td>\n",
       "      <td>NaN</td>\n",
       "      <td>NaN</td>\n",
       "    </tr>\n",
       "  </tbody>\n",
       "</table>\n",
       "</div>"
      ],
      "text/plain": [
       "                     temp  dwpt  rhum  prcp  snow   wdir  wspd  wpgt   pres  \\\n",
       "time                                                                          \n",
       "2017-01-01 00:00:00   0.1  -3.1  79.0   NaN   NaN  230.0  13.0   NaN  996.5   \n",
       "2017-01-01 01:00:00  -0.5  -2.9  84.0   NaN   NaN  230.0  14.8   NaN  996.4   \n",
       "2017-01-01 02:00:00   0.0  -2.2  85.0   NaN   NaN  220.0   9.4   NaN  996.6   \n",
       "2017-01-01 03:00:00  -2.2  -3.6  90.0   NaN   NaN  230.0  13.0   NaN  996.6   \n",
       "2017-01-01 04:00:00  -3.2  -4.2  93.0   NaN   NaN  240.0  11.2   NaN  996.8   \n",
       "\n",
       "                     tsun  coco  \n",
       "time                             \n",
       "2017-01-01 00:00:00   NaN   NaN  \n",
       "2017-01-01 01:00:00   NaN   NaN  \n",
       "2017-01-01 02:00:00   NaN   NaN  \n",
       "2017-01-01 03:00:00   NaN   NaN  \n",
       "2017-01-01 04:00:00   NaN   NaN  "
      ]
     },
     "execution_count": 2,
     "metadata": {},
     "output_type": "execute_result"
    }
   ],
   "source": [
    "# Get hourly weather data\n",
    "station_id = '02944'\n",
    "start_dt = datetime(2017, 1, 1)\n",
    "end_dt = datetime(2022, 1, 1)\n",
    "dataset = meteostat.Hourly(station_id, start_dt, end_dt).fetch()\n",
    "dataset.head()"
   ]
  },
  {
   "cell_type": "markdown",
   "metadata": {},
   "source": [
    "### Create categorical features\n",
    "This example creates precipitation category with binary values raining/not raining."
   ]
  },
  {
   "cell_type": "code",
   "execution_count": 3,
   "metadata": {},
   "outputs": [],
   "source": [
    "dataset['prcp'] = dataset['prcp'].fillna(0)\n",
    "dataset['prcp_cat'] = (dataset['prcp'] > 0).astype(str)"
   ]
  },
  {
   "cell_type": "markdown",
   "metadata": {
    "tags": []
   },
   "source": [
    "### Setup and train PredictLite model "
   ]
  },
  {
   "cell_type": "code",
   "execution_count": 4,
   "metadata": {},
   "outputs": [
    {
     "name": "stdout",
     "output_type": "stream",
     "text": [
      "Setting up preprocessing\n",
      "Building dataset\n",
      "Training the model\n",
      "epoch:   0, train loss: 0.53093, test loss: 0.30537\n",
      "epoch:   1, train loss: 0.26821, test loss: 0.24738\n",
      "epoch:   2, train loss: 0.24170, test loss: 0.23082\n",
      "epoch:   3, train loss: 0.23030, test loss: 0.22121\n",
      "epoch:   4, train loss: 0.22210, test loss: 0.21684\n",
      "epoch:   5, train loss: 0.21653, test loss: 0.21185\n",
      "epoch:   6, train loss: 0.21250, test loss: 0.21166\n",
      "epoch:   7, train loss: 0.20963, test loss: 0.20720\n",
      "epoch:   8, train loss: 0.20607, test loss: 0.20593\n",
      "epoch:   9, train loss: 0.20362, test loss: 0.20628\n",
      "epoch:  10, train loss: 0.20095, test loss: 0.20507\n",
      "epoch:  11, train loss: 0.19840, test loss: 0.20458\n",
      "epoch:  12, train loss: 0.19779, test loss: 0.20413\n",
      "epoch:  13, train loss: 0.19555, test loss: 0.20446\n",
      "epoch:  14, train loss: 0.19358, test loss: 0.20282\n",
      "epoch:  15, train loss: 0.19196, test loss: 0.20523\n",
      "epoch:  16, train loss: 0.19165, test loss: 0.20383\n",
      "epoch:  17, train loss: 0.18977, test loss: 0.20170\n",
      "epoch:  18, train loss: 0.18821, test loss: 0.20167\n",
      "epoch:  19, train loss: 0.18661, test loss: 0.20258\n",
      "Model training done\n",
      "Test results:\n",
      "temp:\n",
      "\tMAE: 2.17814\n",
      "rhum:\n",
      "\tMAE: 7.51692\n"
     ]
    }
   ],
   "source": [
    "model = PredictLite(\n",
    "    input_signals=['temp', 'rhum'], \n",
    "    input_preprocessing={'temp' : 'z-norm', 'rhum' : 'z-norm'},\n",
    "    input_length=72,\n",
    "    datetime_embeddings=['month', 'hour'],\n",
    "    categorical_inputs=['prcp_cat'],\n",
    "    output_signals=['temp', 'rhum'],\n",
    "    output_length=24,\n",
    "    data_sample_period=3600,\n",
    "    hidden_layer_n=2,\n",
    ")\n",
    "\n",
    "model.fit(\n",
    "    dataset,\n",
    "    train_sample_n=10000,\n",
    "    test_sample_n=1000,\n",
    "    epochs=20,\n",
    "    random_seed=13,\n",
    "    verbose=True,\n",
    ")"
   ]
  },
  {
   "cell_type": "code",
   "execution_count": 6,
   "metadata": {},
   "outputs": [
    {
     "name": "stdout",
     "output_type": "stream",
     "text": [
      "Building dataset\n",
      "Training the existing model\n",
      "epoch:   0, train loss: 0.16857, test loss: 0.19846\n",
      "epoch:   1, train loss: 0.16798, test loss: 0.19388\n",
      "epoch:   2, train loss: 0.16790, test loss: 0.19461\n",
      "epoch:   3, train loss: 0.16650, test loss: 0.19356\n",
      "epoch:   4, train loss: 0.16904, test loss: 0.20026\n",
      "epoch:   5, train loss: 0.16532, test loss: 0.19419\n",
      "epoch:   6, train loss: 0.16453, test loss: 0.19584\n",
      "epoch:   7, train loss: 0.16396, test loss: 0.19450\n",
      "epoch:   8, train loss: 0.16324, test loss: 0.19420\n",
      "epoch:   9, train loss: 0.16273, test loss: 0.19383\n",
      "epoch:  10, train loss: 0.16089, test loss: 0.19444\n",
      "epoch:  11, train loss: 0.15911, test loss: 0.19512\n",
      "epoch:  12, train loss: 0.15955, test loss: 0.19479\n",
      "epoch:  13, train loss: 0.16037, test loss: 0.19887\n",
      "epoch:  14, train loss: 0.15873, test loss: 0.19810\n",
      "epoch:  15, train loss: 0.15747, test loss: 0.19744\n",
      "epoch:  16, train loss: 0.15606, test loss: 0.19571\n",
      "epoch:  17, train loss: 0.15678, test loss: 0.19524\n",
      "epoch:  18, train loss: 0.15568, test loss: 0.19670\n",
      "epoch:  19, train loss: 0.15423, test loss: 0.19728\n",
      "Model training done\n",
      "Test results:\n",
      "temp:\n",
      "\tMAE: 2.12126\n",
      "rhum:\n",
      "\tMAE: 7.48688\n"
     ]
    }
   ],
   "source": [
    "# Continue training\n",
    "model.fit(\n",
    "    data=dataset,\n",
    "    train_sample_n=5000,\n",
    "    test_sample_n=1000,\n",
    "    epochs=20,\n",
    "    random_seed=313,\n",
    "    verbose=True,\n",
    "    fit_existing_model=True,\n",
    ")"
   ]
  },
  {
   "cell_type": "code",
   "execution_count": 7,
   "metadata": {},
   "outputs": [
    {
     "name": "stdout",
     "output_type": "stream",
     "text": [
      "Inputs:\n",
      "\ttemp: 72\n",
      "\trhum: 72\n",
      "\tmonth: Embedding(13, 20)\n",
      "\thour: Embedding(25, 20)\n",
      "\tprcp_cat: Embedding(3, 20)\n",
      "MLP:\n",
      "\tLinear(in_features=204, out_features=204, bias=True)\n",
      "\tReLU()\n",
      "\tLinear(in_features=204, out_features=204, bias=True)\n",
      "\tReLU()\n",
      "\tLinear(in_features=204, out_features=48, bias=True)\n",
      "Outputs:\n",
      "\ttemp: 24\n",
      "\trhum: 24\n"
     ]
    }
   ],
   "source": [
    "model.model_summary()"
   ]
  },
  {
   "cell_type": "markdown",
   "metadata": {},
   "source": [
    "### Make prediction"
   ]
  },
  {
   "cell_type": "code",
   "execution_count": 8,
   "metadata": {
    "tags": []
   },
   "outputs": [
    {
     "data": {
      "image/png": "[encoded data removed]",
      "text/plain": [
       "<Figure size 576x360 with 1 Axes>"
      ]
     },
     "metadata": {
      "needs_background": "light"
     },
     "output_type": "display_data"
    },
    {
     "data": {
      "image/png": "[encoded data removed]",
      "text/plain": [
       "<Figure size 576x360 with 1 Axes>"
      ]
     },
     "metadata": {
      "needs_background": "light"
     },
     "output_type": "display_data"
    }
   ],
   "source": [
    "# Datetime for prediction start\n",
    "prediction_time = datetime(2021, 11, 11, 0)\n",
    "\n",
    "# Make prediction \n",
    "pred = model.predict(dataset, prediction_time)\n",
    "\n",
    "# Plot data and prediction\n",
    "pred_len = model.output_length\n",
    "inp_len = model.input_length\n",
    "for col in model.output_signals:\n",
    "    \n",
    "    ts_idx = dataset.index.get_loc(prediction_time, method='pad')\n",
    "    plt.figure(figsize=(8, 5))\n",
    "    plt.plot(\n",
    "        dataset.index[ts_idx - inp_len : ts_idx].values, \n",
    "        dataset.iloc[ts_idx - inp_len : ts_idx][col].values, \n",
    "        color='blue', \n",
    "        label='{} history'.format(col)\n",
    "    )\n",
    "    plt.plot(\n",
    "        dataset.index[ts_idx : ts_idx + pred_len].values, \n",
    "        dataset.iloc[ts_idx : ts_idx + pred_len][col].values, \n",
    "        color='green',\n",
    "        label='{} actual'.format(col)\n",
    "    )\n",
    "    plt.plot(\n",
    "        pred.index.values, \n",
    "        pred[col].values, \n",
    "        color='orange', \n",
    "        label='{} prediction'.format(col)\n",
    "    )\n",
    "    plt.xticks(rotation=45, ha='right')\n",
    "    plt.legend()\n",
    "    plt.grid(alpha=0.3)\n",
    "    plt.title(col)\n",
    "    plt.show()"
   ]
  },
  {
   "cell_type": "code",
   "execution_count": null,
   "metadata": {},
   "outputs": [],
   "source": []
  }
 ],
 "metadata": {
  "kernelspec": {
   "display_name": "Python 3 (ipykernel)",
   "language": "python",
   "name": "python3"
  },
  "language_info": {
   "codemirror_mode": {
    "name": "ipython",
    "version": 3
   },
   "file_extension": ".py",
   "mimetype": "text/x-python",
   "name": "python",
   "nbconvert_exporter": "python",
   "pygments_lexer": "ipython3",
   "version": "3.9.9"
  }
 },
 "nbformat": 4,
 "nbformat_minor": 4
}
