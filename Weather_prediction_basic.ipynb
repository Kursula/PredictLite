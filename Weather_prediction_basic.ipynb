{
 "cells": [
  {
   "cell_type": "markdown",
   "metadata": {
    "tags": []
   },
   "source": [
    "# Weather prediction example\n",
    "\n",
    "This notebook shows a simple way to predict time series data using a PredictLite neural network\n",
    "\n",
    "(c) Mikko Kursula 2022. MIT License. "
   ]
  },
  {
   "cell_type": "code",
   "execution_count": 1,
   "metadata": {},
   "outputs": [],
   "source": [
    "# Enable automatic reloading (if changes are done in the model code)\n",
    "%load_ext autoreload\n",
    "%autoreload 2\n",
    "\n",
    "# General\n",
    "import numpy as np\n",
    "import pandas as pd\n",
    "from datetime import datetime, timedelta\n",
    "import matplotlib.pyplot as plt\n",
    "\n",
    "# Data source\n",
    "import meteostat\n",
    "\n",
    "# PredictLite\n",
    "from predictlite.predictlite import PredictLite"
   ]
  },
  {
   "cell_type": "markdown",
   "metadata": {},
   "source": [
    "### Get weather dataset"
   ]
  },
  {
   "cell_type": "code",
   "execution_count": 2,
   "metadata": {},
   "outputs": [
    {
     "data": {
      "text/html": [
       "<div>\n",
       "<style scoped>\n",
       "    .dataframe tbody tr th:only-of-type {\n",
       "        vertical-align: middle;\n",
       "    }\n",
       "\n",
       "    .dataframe tbody tr th {\n",
       "        vertical-align: top;\n",
       "    }\n",
       "\n",
       "    .dataframe thead th {\n",
       "        text-align: right;\n",
       "    }\n",
       "</style>\n",
       "<table border=\"1\" class=\"dataframe\">\n",
       "  <thead>\n",
       "    <tr style=\"text-align: right;\">\n",
       "      <th></th>\n",
       "      <th>temp</th>\n",
       "      <th>dwpt</th>\n",
       "      <th>rhum</th>\n",
       "      <th>prcp</th>\n",
       "      <th>snow</th>\n",
       "      <th>wdir</th>\n",
       "      <th>wspd</th>\n",
       "      <th>wpgt</th>\n",
       "      <th>pres</th>\n",
       "      <th>tsun</th>\n",
       "      <th>coco</th>\n",
       "    </tr>\n",
       "    <tr>\n",
       "      <th>time</th>\n",
       "      <th></th>\n",
       "      <th></th>\n",
       "      <th></th>\n",
       "      <th></th>\n",
       "      <th></th>\n",
       "      <th></th>\n",
       "      <th></th>\n",
       "      <th></th>\n",
       "      <th></th>\n",
       "      <th></th>\n",
       "      <th></th>\n",
       "    </tr>\n",
       "  </thead>\n",
       "  <tbody>\n",
       "    <tr>\n",
       "      <th>2017-01-01 00:00:00</th>\n",
       "      <td>0.1</td>\n",
       "      <td>-3.1</td>\n",
       "      <td>79.0</td>\n",
       "      <td>NaN</td>\n",
       "      <td>NaN</td>\n",
       "      <td>230.0</td>\n",
       "      <td>13.0</td>\n",
       "      <td>NaN</td>\n",
       "      <td>996.5</td>\n",
       "      <td>NaN</td>\n",
       "      <td>NaN</td>\n",
       "    </tr>\n",
       "    <tr>\n",
       "      <th>2017-01-01 01:00:00</th>\n",
       "      <td>-0.5</td>\n",
       "      <td>-2.9</td>\n",
       "      <td>84.0</td>\n",
       "      <td>NaN</td>\n",
       "      <td>NaN</td>\n",
       "      <td>230.0</td>\n",
       "      <td>14.8</td>\n",
       "      <td>NaN</td>\n",
       "      <td>996.4</td>\n",
       "      <td>NaN</td>\n",
       "      <td>NaN</td>\n",
       "    </tr>\n",
       "    <tr>\n",
       "      <th>2017-01-01 02:00:00</th>\n",
       "      <td>0.0</td>\n",
       "      <td>-2.2</td>\n",
       "      <td>85.0</td>\n",
       "      <td>NaN</td>\n",
       "      <td>NaN</td>\n",
       "      <td>220.0</td>\n",
       "      <td>9.4</td>\n",
       "      <td>NaN</td>\n",
       "      <td>996.6</td>\n",
       "      <td>NaN</td>\n",
       "      <td>NaN</td>\n",
       "    </tr>\n",
       "    <tr>\n",
       "      <th>2017-01-01 03:00:00</th>\n",
       "      <td>-2.2</td>\n",
       "      <td>-3.6</td>\n",
       "      <td>90.0</td>\n",
       "      <td>NaN</td>\n",
       "      <td>NaN</td>\n",
       "      <td>230.0</td>\n",
       "      <td>13.0</td>\n",
       "      <td>NaN</td>\n",
       "      <td>996.6</td>\n",
       "      <td>NaN</td>\n",
       "      <td>NaN</td>\n",
       "    </tr>\n",
       "    <tr>\n",
       "      <th>2017-01-01 04:00:00</th>\n",
       "      <td>-3.2</td>\n",
       "      <td>-4.2</td>\n",
       "      <td>93.0</td>\n",
       "      <td>NaN</td>\n",
       "      <td>NaN</td>\n",
       "      <td>240.0</td>\n",
       "      <td>11.2</td>\n",
       "      <td>NaN</td>\n",
       "      <td>996.8</td>\n",
       "      <td>NaN</td>\n",
       "      <td>NaN</td>\n",
       "    </tr>\n",
       "  </tbody>\n",
       "</table>\n",
       "</div>"
      ],
      "text/plain": [
       "                     temp  dwpt  rhum  prcp  snow   wdir  wspd  wpgt   pres  \\\n",
       "time                                                                          \n",
       "2017-01-01 00:00:00   0.1  -3.1  79.0   NaN   NaN  230.0  13.0   NaN  996.5   \n",
       "2017-01-01 01:00:00  -0.5  -2.9  84.0   NaN   NaN  230.0  14.8   NaN  996.4   \n",
       "2017-01-01 02:00:00   0.0  -2.2  85.0   NaN   NaN  220.0   9.4   NaN  996.6   \n",
       "2017-01-01 03:00:00  -2.2  -3.6  90.0   NaN   NaN  230.0  13.0   NaN  996.6   \n",
       "2017-01-01 04:00:00  -3.2  -4.2  93.0   NaN   NaN  240.0  11.2   NaN  996.8   \n",
       "\n",
       "                     tsun  coco  \n",
       "time                             \n",
       "2017-01-01 00:00:00   NaN   NaN  \n",
       "2017-01-01 01:00:00   NaN   NaN  \n",
       "2017-01-01 02:00:00   NaN   NaN  \n",
       "2017-01-01 03:00:00   NaN   NaN  \n",
       "2017-01-01 04:00:00   NaN   NaN  "
      ]
     },
     "execution_count": 2,
     "metadata": {},
     "output_type": "execute_result"
    }
   ],
   "source": [
    "# Get hourly weather data\n",
    "station_id = '02944'\n",
    "start_dt = datetime(2017, 1, 1)\n",
    "end_dt = datetime(2022, 1, 1)\n",
    "dataset = meteostat.Hourly(station_id, start_dt, end_dt).fetch()\n",
    "dataset.head()"
   ]
  },
  {
   "cell_type": "markdown",
   "metadata": {
    "tags": []
   },
   "source": [
    "### Setup and train PredictLite model "
   ]
  },
  {
   "cell_type": "code",
   "execution_count": 3,
   "metadata": {},
   "outputs": [
    {
     "name": "stdout",
     "output_type": "stream",
     "text": [
      "Setting up preprocessing\n",
      "Building dataset\n",
      "Training the model\n",
      "epoch:   0, train loss: 2183.27968, test loss: 695.60757\n",
      "epoch:   1, train loss: 354.86279, test loss: 212.96486\n",
      "epoch:   2, train loss: 168.29827, test loss: 150.08507\n",
      "epoch:   3, train loss: 140.96849, test loss: 132.61536\n",
      "epoch:   4, train loss: 130.47745, test loss: 123.05086\n",
      "epoch:   5, train loss: 123.45373, test loss: 116.20781\n",
      "epoch:   6, train loss: 118.13039, test loss: 110.99668\n",
      "epoch:   7, train loss: 113.56722, test loss: 106.64221\n",
      "epoch:   8, train loss: 109.67808, test loss: 102.84532\n",
      "epoch:   9, train loss: 106.23099, test loss: 99.37923\n",
      "epoch:  10, train loss: 103.01400, test loss: 96.29381\n",
      "epoch:  11, train loss: 100.27448, test loss: 93.58245\n",
      "epoch:  12, train loss: 98.05176, test loss: 91.06620\n",
      "epoch:  13, train loss: 95.54476, test loss: 88.78316\n",
      "epoch:  14, train loss: 93.38546, test loss: 86.73745\n",
      "epoch:  15, train loss: 91.62915, test loss: 84.84575\n",
      "epoch:  16, train loss: 89.99390, test loss: 83.25818\n",
      "epoch:  17, train loss: 88.43948, test loss: 81.72175\n",
      "epoch:  18, train loss: 87.00423, test loss: 80.40873\n",
      "epoch:  19, train loss: 85.85635, test loss: 79.13906\n",
      "epoch:  20, train loss: 84.61885, test loss: 77.99578\n",
      "epoch:  21, train loss: 83.77298, test loss: 76.97053\n",
      "epoch:  22, train loss: 82.69538, test loss: 76.15629\n",
      "epoch:  23, train loss: 82.13150, test loss: 75.21249\n",
      "epoch:  24, train loss: 81.01061, test loss: 74.50970\n",
      "epoch:  25, train loss: 80.33026, test loss: 73.71418\n",
      "epoch:  26, train loss: 79.85239, test loss: 72.98288\n",
      "epoch:  27, train loss: 79.46608, test loss: 72.37781\n",
      "epoch:  28, train loss: 78.53743, test loss: 71.75774\n",
      "epoch:  29, train loss: 78.24945, test loss: 71.43233\n",
      "Model training done\n",
      "Test results:\n",
      "temp:\n",
      "\tMAE: 2.72915\n",
      "rhum:\n",
      "\tMAE: 8.16811\n"
     ]
    }
   ],
   "source": [
    "model = PredictLite(\n",
    "    input_signals=['temp', 'rhum'], \n",
    "    input_length=72,\n",
    "    output_signals=['temp', 'rhum'],\n",
    "    output_length=24,\n",
    "    data_sample_period=3600,\n",
    ")\n",
    "\n",
    "model.fit(dataset, train_sample_n=10000, test_sample_n=1000)"
   ]
  },
  {
   "cell_type": "code",
   "execution_count": 4,
   "metadata": {},
   "outputs": [
    {
     "name": "stdout",
     "output_type": "stream",
     "text": [
      "Inputs:\n",
      "\ttemp: 72\n",
      "\trhum: 72\n",
      "MLP:\n",
      "\tLinear(in_features=144, out_features=48, bias=True)\n",
      "Outputs:\n",
      "\ttemp: 24\n",
      "\trhum: 24\n"
     ]
    }
   ],
   "source": [
    "model.model_summary()"
   ]
  },
  {
   "cell_type": "markdown",
   "metadata": {},
   "source": [
    "### Make prediction"
   ]
  },
  {
   "cell_type": "code",
   "execution_count": 5,
   "metadata": {
    "tags": []
   },
   "outputs": [
    {
     "data": {
      "image/png": "[encoded data removed]",
      "text/plain": [
       "<Figure size 576x360 with 1 Axes>"
      ]
     },
     "metadata": {
      "needs_background": "light"
     },
     "output_type": "display_data"
    },
    {
     "data": {
      "image/png": "[encoded data removed]",
      "text/plain": [
       "<Figure size 576x360 with 1 Axes>"
      ]
     },
     "metadata": {
      "needs_background": "light"
     },
     "output_type": "display_data"
    }
   ],
   "source": [
    "# Datetime for prediction start\n",
    "prediction_time = datetime(2021, 11, 10, 1)\n",
    "\n",
    "# Make prediction \n",
    "pred = model.predict(dataset, prediction_time)\n",
    "\n",
    "# Plot data and prediction\n",
    "pred_len = model.output_length\n",
    "inp_len = model.input_length\n",
    "for col in model.output_signals:\n",
    "    \n",
    "    ts_idx = dataset.index.get_loc(prediction_time, method='pad')\n",
    "    plt.figure(figsize=(8, 5))\n",
    "    plt.plot(\n",
    "        dataset.index[ts_idx - inp_len : ts_idx].values, \n",
    "        dataset.iloc[ts_idx - inp_len : ts_idx][col].values, \n",
    "        color='blue', \n",
    "        label='{} history'.format(col)\n",
    "    )\n",
    "    plt.plot(\n",
    "        dataset.index[ts_idx : ts_idx + pred_len].values, \n",
    "        dataset.iloc[ts_idx : ts_idx + pred_len][col].values, \n",
    "        color='green',\n",
    "        label='{} actual'.format(col)\n",
    "    )\n",
    "    plt.plot(\n",
    "        pred.index.values, \n",
    "        pred[col].values, \n",
    "        color='orange', \n",
    "        label='{} prediction'.format(col)\n",
    "    )\n",
    "    plt.xticks(rotation=45, ha='right')\n",
    "    plt.legend()\n",
    "    plt.grid(alpha=0.3)\n",
    "    plt.title(col)\n",
    "    plt.show()"
   ]
  },
  {
   "cell_type": "code",
   "execution_count": null,
   "metadata": {},
   "outputs": [],
   "source": []
  }
 ],
 "metadata": {
  "kernelspec": {
   "display_name": "Python 3 (ipykernel)",
   "language": "python",
   "name": "python3"
  },
  "language_info": {
   "codemirror_mode": {
    "name": "ipython",
    "version": 3
   },
   "file_extension": ".py",
   "mimetype": "text/x-python",
   "name": "python",
   "nbconvert_exporter": "python",
   "pygments_lexer": "ipython3",
   "version": "3.9.9"
  }
 },
 "nbformat": 4,
 "nbformat_minor": 4
}
