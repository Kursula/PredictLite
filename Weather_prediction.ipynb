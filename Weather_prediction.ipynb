{
 "cells": [
  {
   "cell_type": "markdown",
   "metadata": {
    "tags": []
   },
   "source": [
    "# Weather prediction example\n",
    "\n",
    "This notebook shows a simple way to predict time series data using a PredictLite neural network\n",
    "\n",
    "(c) Mikko Kursula 2022. MIT License. "
   ]
  },
  {
   "cell_type": "code",
   "execution_count": 1,
   "metadata": {},
   "outputs": [],
   "source": [
    "# Enable automatic reloading (if changes are done in the model code)\n",
    "%load_ext autoreload\n",
    "%autoreload 2\n",
    "\n",
    "# General\n",
    "import numpy as np\n",
    "import pandas as pd\n",
    "from datetime import datetime, timedelta\n",
    "import matplotlib.pyplot as plt\n",
    "\n",
    "# Data source\n",
    "import meteostat\n",
    "\n",
    "# PredictLite\n",
    "from predictlite.predictlite import PredictLite"
   ]
  },
  {
   "cell_type": "markdown",
   "metadata": {},
   "source": [
    "### Get weather dataset"
   ]
  },
  {
   "cell_type": "code",
   "execution_count": 2,
   "metadata": {},
   "outputs": [
    {
     "data": {
      "text/html": [
       "<div>\n",
       "<style scoped>\n",
       "    .dataframe tbody tr th:only-of-type {\n",
       "        vertical-align: middle;\n",
       "    }\n",
       "\n",
       "    .dataframe tbody tr th {\n",
       "        vertical-align: top;\n",
       "    }\n",
       "\n",
       "    .dataframe thead th {\n",
       "        text-align: right;\n",
       "    }\n",
       "</style>\n",
       "<table border=\"1\" class=\"dataframe\">\n",
       "  <thead>\n",
       "    <tr style=\"text-align: right;\">\n",
       "      <th></th>\n",
       "      <th>temp</th>\n",
       "      <th>dwpt</th>\n",
       "      <th>rhum</th>\n",
       "      <th>prcp</th>\n",
       "      <th>snow</th>\n",
       "      <th>wdir</th>\n",
       "      <th>wspd</th>\n",
       "      <th>wpgt</th>\n",
       "      <th>pres</th>\n",
       "      <th>tsun</th>\n",
       "      <th>coco</th>\n",
       "    </tr>\n",
       "    <tr>\n",
       "      <th>time</th>\n",
       "      <th></th>\n",
       "      <th></th>\n",
       "      <th></th>\n",
       "      <th></th>\n",
       "      <th></th>\n",
       "      <th></th>\n",
       "      <th></th>\n",
       "      <th></th>\n",
       "      <th></th>\n",
       "      <th></th>\n",
       "      <th></th>\n",
       "    </tr>\n",
       "  </thead>\n",
       "  <tbody>\n",
       "    <tr>\n",
       "      <th>2012-01-01 00:00:00</th>\n",
       "      <td>-5.5</td>\n",
       "      <td>-5.6</td>\n",
       "      <td>99.0</td>\n",
       "      <td>NaN</td>\n",
       "      <td>NaN</td>\n",
       "      <td>220.0</td>\n",
       "      <td>7.2</td>\n",
       "      <td>NaN</td>\n",
       "      <td>1007.6</td>\n",
       "      <td>NaN</td>\n",
       "      <td>NaN</td>\n",
       "    </tr>\n",
       "    <tr>\n",
       "      <th>2012-01-01 01:00:00</th>\n",
       "      <td>-5.2</td>\n",
       "      <td>-5.5</td>\n",
       "      <td>98.0</td>\n",
       "      <td>NaN</td>\n",
       "      <td>NaN</td>\n",
       "      <td>200.0</td>\n",
       "      <td>7.2</td>\n",
       "      <td>NaN</td>\n",
       "      <td>1008.0</td>\n",
       "      <td>NaN</td>\n",
       "      <td>NaN</td>\n",
       "    </tr>\n",
       "    <tr>\n",
       "      <th>2012-01-01 02:00:00</th>\n",
       "      <td>-5.2</td>\n",
       "      <td>-5.5</td>\n",
       "      <td>98.0</td>\n",
       "      <td>NaN</td>\n",
       "      <td>NaN</td>\n",
       "      <td>220.0</td>\n",
       "      <td>7.2</td>\n",
       "      <td>NaN</td>\n",
       "      <td>1008.3</td>\n",
       "      <td>NaN</td>\n",
       "      <td>NaN</td>\n",
       "    </tr>\n",
       "    <tr>\n",
       "      <th>2012-01-01 03:00:00</th>\n",
       "      <td>-6.0</td>\n",
       "      <td>-6.1</td>\n",
       "      <td>99.0</td>\n",
       "      <td>NaN</td>\n",
       "      <td>NaN</td>\n",
       "      <td>220.0</td>\n",
       "      <td>7.2</td>\n",
       "      <td>NaN</td>\n",
       "      <td>1008.6</td>\n",
       "      <td>NaN</td>\n",
       "      <td>NaN</td>\n",
       "    </tr>\n",
       "    <tr>\n",
       "      <th>2012-01-01 04:00:00</th>\n",
       "      <td>-4.6</td>\n",
       "      <td>-5.1</td>\n",
       "      <td>96.0</td>\n",
       "      <td>NaN</td>\n",
       "      <td>NaN</td>\n",
       "      <td>260.0</td>\n",
       "      <td>3.6</td>\n",
       "      <td>NaN</td>\n",
       "      <td>1009.0</td>\n",
       "      <td>NaN</td>\n",
       "      <td>NaN</td>\n",
       "    </tr>\n",
       "  </tbody>\n",
       "</table>\n",
       "</div>"
      ],
      "text/plain": [
       "                     temp  dwpt  rhum  prcp  snow   wdir  wspd  wpgt    pres  \\\n",
       "time                                                                           \n",
       "2012-01-01 00:00:00  -5.5  -5.6  99.0   NaN   NaN  220.0   7.2   NaN  1007.6   \n",
       "2012-01-01 01:00:00  -5.2  -5.5  98.0   NaN   NaN  200.0   7.2   NaN  1008.0   \n",
       "2012-01-01 02:00:00  -5.2  -5.5  98.0   NaN   NaN  220.0   7.2   NaN  1008.3   \n",
       "2012-01-01 03:00:00  -6.0  -6.1  99.0   NaN   NaN  220.0   7.2   NaN  1008.6   \n",
       "2012-01-01 04:00:00  -4.6  -5.1  96.0   NaN   NaN  260.0   3.6   NaN  1009.0   \n",
       "\n",
       "                     tsun  coco  \n",
       "time                             \n",
       "2012-01-01 00:00:00   NaN   NaN  \n",
       "2012-01-01 01:00:00   NaN   NaN  \n",
       "2012-01-01 02:00:00   NaN   NaN  \n",
       "2012-01-01 03:00:00   NaN   NaN  \n",
       "2012-01-01 04:00:00   NaN   NaN  "
      ]
     },
     "execution_count": 2,
     "metadata": {},
     "output_type": "execute_result"
    }
   ],
   "source": [
    "# Get hourly weather data\n",
    "station_id = '02944'\n",
    "start_dt = datetime(2012, 1, 1)\n",
    "end_dt = datetime(2022, 1, 1)\n",
    "dataset = meteostat.Hourly(station_id, start_dt, end_dt).fetch()\n",
    "dataset.head()"
   ]
  },
  {
   "cell_type": "markdown",
   "metadata": {
    "tags": []
   },
   "source": [
    "### Setup and train PredictLite model "
   ]
  },
  {
   "cell_type": "code",
   "execution_count": 3,
   "metadata": {},
   "outputs": [
    {
     "name": "stdout",
     "output_type": "stream",
     "text": [
      "Setting up preprocessing\n",
      "Building dataset\n",
      "Training the model\n",
      "epoch:   0, train loss: 0.62936, test loss: 0.39150\n",
      "epoch:   1, train loss: 0.32385, test loss: 0.30388\n",
      "epoch:   2, train loss: 0.27850, test loss: 0.28122\n",
      "epoch:   3, train loss: 0.26365, test loss: 0.27114\n",
      "epoch:   4, train loss: 0.25635, test loss: 0.26392\n",
      "epoch:   5, train loss: 0.25064, test loss: 0.25938\n",
      "epoch:   6, train loss: 0.24644, test loss: 0.25557\n",
      "epoch:   7, train loss: 0.24330, test loss: 0.25239\n",
      "epoch:   8, train loss: 0.24031, test loss: 0.24934\n",
      "epoch:   9, train loss: 0.23790, test loss: 0.24744\n",
      "epoch:  10, train loss: 0.23620, test loss: 0.24478\n",
      "epoch:  11, train loss: 0.23458, test loss: 0.24348\n",
      "epoch:  12, train loss: 0.23323, test loss: 0.24306\n",
      "epoch:  13, train loss: 0.23159, test loss: 0.24154\n",
      "epoch:  14, train loss: 0.23114, test loss: 0.24085\n",
      "epoch:  15, train loss: 0.23006, test loss: 0.24088\n",
      "epoch:  16, train loss: 0.22870, test loss: 0.23937\n",
      "epoch:  17, train loss: 0.22840, test loss: 0.23821\n",
      "epoch:  18, train loss: 0.22778, test loss: 0.23769\n",
      "epoch:  19, train loss: 0.22675, test loss: 0.23870\n",
      "Model training done\n"
     ]
    }
   ],
   "source": [
    "model = PredictLite(\n",
    "    input_signals=['temp', 'rhum'], \n",
    "    input_preprocessing={'temp' : 'z-norm', 'rhum' : 'z-norm'},\n",
    "    input_length=48, \n",
    "    output_signals=['temp', 'rhum'],\n",
    "    output_length=24,\n",
    "    resample_data=True,\n",
    "    data_sample_period=3600,\n",
    "    hidden_layer_n=0,\n",
    "    train_sample_n=10000,\n",
    "    test_sample_n=1000,\n",
    "    epochs=20,\n",
    "    random_seed=13,\n",
    "    verbose=True,\n",
    ")\n",
    "\n",
    "model.fit(dataset)"
   ]
  },
  {
   "cell_type": "code",
   "execution_count": 4,
   "metadata": {},
   "outputs": [
    {
     "name": "stdout",
     "output_type": "stream",
     "text": [
      "PredictionModel(\n",
      "  (model): Sequential(\n",
      "    (0): Flatten(start_dim=1, end_dim=-1)\n",
      "    (1): Linear(in_features=96, out_features=96, bias=True)\n",
      "    (2): Linear(in_features=96, out_features=48, bias=True)\n",
      "  )\n",
      ")\n"
     ]
    }
   ],
   "source": [
    "model.model_summary()"
   ]
  },
  {
   "cell_type": "markdown",
   "metadata": {},
   "source": [
    "### Make prediction"
   ]
  },
  {
   "cell_type": "code",
   "execution_count": 5,
   "metadata": {
    "tags": []
   },
   "outputs": [
    {
     "data": {
      "image/png": "[encoded data removed]",
      "text/plain": [
       "<Figure size 576x360 with 1 Axes>"
      ]
     },
     "metadata": {
      "needs_background": "light"
     },
     "output_type": "display_data"
    },
    {
     "data": {
      "image/png": "[encoded data removed]",
      "text/plain": [
       "<Figure size 576x360 with 1 Axes>"
      ]
     },
     "metadata": {
      "needs_background": "light"
     },
     "output_type": "display_data"
    }
   ],
   "source": [
    "# Datetime for prediction start\n",
    "prediction_time = datetime(2021, 10, 3, 10)\n",
    "\n",
    "# Make prediction \n",
    "pred = model.predict(dataset, prediction_time)\n",
    "\n",
    "# Plot data and prediction\n",
    "pred_len = model.output_length\n",
    "inp_len = model.input_length\n",
    "for col in model.output_signals:\n",
    "    \n",
    "    ts_idx = dataset.index.get_loc(prediction_time, method='pad')\n",
    "    plt.figure(figsize=(8, 5))\n",
    "    plt.plot(\n",
    "        dataset.index[ts_idx - inp_len : ts_idx].values, \n",
    "        dataset.iloc[ts_idx - inp_len : ts_idx][col].values, \n",
    "        color='blue', \n",
    "        label='{} history'.format(col)\n",
    "    )\n",
    "    plt.plot(\n",
    "        dataset.index[ts_idx : ts_idx + pred_len].values, \n",
    "        dataset.iloc[ts_idx : ts_idx + pred_len][col].values, \n",
    "        color='green',\n",
    "        label='{} actual'.format(col)\n",
    "    )\n",
    "    plt.plot(\n",
    "        pred.index.values, \n",
    "        pred[col].values, \n",
    "        color='orange', \n",
    "        label='{} prediction'.format(col)\n",
    "    )\n",
    "    plt.xticks(rotation=45, ha='right')\n",
    "    plt.legend()\n",
    "    plt.grid(alpha=0.3)\n",
    "    plt.title(col)\n",
    "    plt.show()"
   ]
  },
  {
   "cell_type": "code",
   "execution_count": null,
   "metadata": {},
   "outputs": [],
   "source": []
  }
 ],
 "metadata": {
  "kernelspec": {
   "display_name": "Python 3 (ipykernel)",
   "language": "python",
   "name": "python3"
  },
  "language_info": {
   "codemirror_mode": {
    "name": "ipython",
    "version": 3
   },
   "file_extension": ".py",
   "mimetype": "text/x-python",
   "name": "python",
   "nbconvert_exporter": "python",
   "pygments_lexer": "ipython3",
   "version": "3.9.9"
  }
 },
 "nbformat": 4,
 "nbformat_minor": 4
}
